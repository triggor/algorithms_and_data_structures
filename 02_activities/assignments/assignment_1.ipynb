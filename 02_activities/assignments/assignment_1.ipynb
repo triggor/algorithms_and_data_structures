{
 "cells": [
  {
   "cell_type": "markdown",
   "metadata": {},
   "source": [
    "# Coding Problems\n",
    "\n",
    "## Objective\n",
    "\n",
    "This assignment aims to demonstrate how to study a data structures or algorithms question in depth to prepare for an industry coding interview. Leetcode is a popular coding practice site that many use to practice for technical interviews. Like behavioral interviews, it's important to practice and keep your skills sharp.\n",
    "\n",
    "## Group Size\n",
    "\n",
    "Please complete this individually.\n",
    "\n",
    "## Part 1:\n",
    "\n",
    "_*You will be assigned one of three problems based of your first name. Execute the code below, and that will tell you your assigned problem. Include the output as part of your submission (do not clear the output). The problems are based-off problems from Leetcode.*_\n"
   ]
  },
  {
   "cell_type": "code",
   "execution_count": 1,
   "metadata": {},
   "outputs": [
    {
     "name": "stdout",
     "output_type": "stream",
     "text": [
      "2\n"
     ]
    }
   ],
   "source": [
    "from typing import List\n",
    "\n",
    "print((hash('Igor') % 3) + 1)"
   ]
  },
  {
   "cell_type": "markdown",
   "metadata": {},
   "source": [
    "<details>\n",
    "  <summary>Question 1</summary>\n",
    "\n",
    "  # Question One: Check Duplicates in Tree\n",
    "\n",
    "  Given the `root` of a binary tree, check whether it is contains a duplicate value. If a duplicate exists, return the duplicate value. If there are multiple duplicates, return the one with the closest distance to the root. If no duplicate exists, return -1.\n",
    "\n",
    "  ## Examples\n",
    "\n",
    "  ### Example 1\n",
    "\n",
    "  ![](./images/q1_ex1.png)\n",
    "\n",
    "  Input: `root = [1, 2, 2, 3, 5, 6, 7]` *What traversal method is this?*\n",
    "\n",
    "  Output: 2\n",
    "\n",
    "  ### Example 2\n",
    "\n",
    "  ![](./images/q1_ex2.png)\n",
    "\n",
    "  Input: `root = [1, 10, 2, 3, 10, 12, 12]`\n",
    "\n",
    "  Output: 10\n",
    "\n",
    "  ### Example 3\n",
    "\n",
    "  ![](./images/q1_ex3.png)\n",
    "\n",
    "  Input: `root = [10, 9, 8, 7]`\n",
    "\n",
    "  Output: -1\n",
    "\n",
    "</details>\n",
    "\n",
    "#### Starter Code for Question 1"
   ]
  },
  {
   "cell_type": "code",
   "execution_count": 2,
   "metadata": {},
   "outputs": [
    {
     "data": {
      "text/plain": [
       "2"
      ]
     },
     "execution_count": 2,
     "metadata": {},
     "output_type": "execute_result"
    }
   ],
   "source": [
    "# Definition for a binary tree node.\n",
    "class TreeNode(object):\n",
    "    def __init__(self, val = 0, left = None, right = None):\n",
    "        self.val = val\n",
    "        self.left = left\n",
    "        self.right = right\n",
    "        \n",
    "Tree1 = TreeNode(1)\n",
    "Tree1.left = TreeNode(2)\n",
    "Tree1.left.left = TreeNode(3)\n",
    "Tree1.left.right = TreeNode(5)\n",
    "Tree1.right = TreeNode(2)\n",
    "Tree1.right.left = TreeNode(6)\n",
    "Tree1.right.right = TreeNode(7)\n",
    "\n",
    "def is_duplicate(root: TreeNode) -> int:\n",
    "    bfs_path = []\n",
    "    stack = [root]\n",
    "    get_bfs(stack, [], bfs_path)\n",
    "    return find_duplicate(bfs_path[0])\n",
    "\n",
    "def find_duplicate(lst):\n",
    "    seen = set()\n",
    "    for item in lst:\n",
    "        if item in seen:\n",
    "            return item\n",
    "        seen.add(item)\n",
    "    return -1\n",
    "    \n",
    "def get_bfs(stack, path, bfs_path):\n",
    "    node = stack.pop()\n",
    "    path.append(node.val)\n",
    "    if node.left == None and node.right == None and len(stack) == 0:\n",
    "        bfs_path.append(path)\n",
    "        return None\n",
    "    if node.left:\n",
    "        stack.append(node.left)        \n",
    "    if node.right:\n",
    "        stack.append(node.right)        \n",
    "    get_bfs(stack, path, bfs_path)\n",
    "    return None\n",
    "    \n",
    "is_duplicate(Tree1)"
   ]
  },
  {
   "cell_type": "markdown",
   "metadata": {},
   "source": [
    "<details>\n",
    "  <summary>Question 2</summary>\n",
    "\n",
    "  # Question Two: Path to Leaves\n",
    "\n",
    "  Given the `root` of a binary tree, return all root to leaf paths in any order.\n",
    "\n",
    "  ## Examples\n",
    "\n",
    "  ### Example 1\n",
    "\n",
    "  ![](./images/q1_ex1.png)\n",
    "\n",
    "  Input: `root = [1, 2, 2, 3, 5, 6, 7]` *What traversal method is this?*\n",
    "\n",
    "  Output: [[1, 2, 3], [1, 2, 5], [1, 2, 6], [1, 2, 7]]\n",
    "\n",
    "  ### Example 2\n",
    "\n",
    "  ![](./images/q1_ex3.png)\n",
    "\n",
    "  Input: `root = [10, 9, 7, 8]`\n",
    "\n",
    "  Output: [[10, 7], [10, 9, 8]]\n",
    "\n",
    "</details>\n",
    "\n",
    "#### Starter Code for Question 2"
   ]
  },
  {
   "cell_type": "code",
   "execution_count": 3,
   "metadata": {},
   "outputs": [
    {
     "name": "stdout",
     "output_type": "stream",
     "text": [
      "[[1, 2, 3], [1, 2, 5], [1, 2, 6], [1, 2, 7]]\n",
      "[[10, 9, 8], [10, 7]]\n"
     ]
    }
   ],
   "source": [
    "# Definition for a binary tree node.\n",
    "class TreeNode(object):\n",
    "    def __init__(self, val = 0, left = None, right = None):\n",
    "        self.val = val\n",
    "        self.left = left\n",
    "        self.right = right\n",
    "        \n",
    "Tree1 = TreeNode(1)\n",
    "Tree1.left = TreeNode(2)\n",
    "Tree1.left.left = TreeNode(3)\n",
    "Tree1.left.right = TreeNode(5)\n",
    "Tree1.right = TreeNode(2)\n",
    "Tree1.right.left = TreeNode(6)\n",
    "Tree1.right.right = TreeNode(7)\n",
    "\n",
    "Tree2 = TreeNode(10)\n",
    "Tree2.left = TreeNode(9)\n",
    "Tree2.left.left = TreeNode(8)\n",
    "Tree2.right = TreeNode(7)\n",
    "\n",
    "def bt_path(root: TreeNode) -> List[List[int]]:\n",
    "    paths = []\n",
    "    get_paths_recursive(root, paths, [])\n",
    "    return paths\n",
    "\n",
    "def get_paths_recursive(node, paths, current_path):\n",
    "    new_current_path = current_path + [node.val]\n",
    "    if node.left == None and node.right == None:\n",
    "        paths.append(new_current_path)\n",
    "        return None\n",
    "    if node.left:\n",
    "        get_paths_recursive(node.left, paths, new_current_path)\n",
    "    if node.right:\n",
    "        get_paths_recursive(node.right, paths, new_current_path)\n",
    "    return None\n",
    "  \n",
    "print(bt_path(Tree1))\n",
    "print(bt_path(Tree2))"
   ]
  },
  {
   "cell_type": "markdown",
   "metadata": {},
   "source": [
    "<details>\n",
    "  <summary>Question 3</summary>\n",
    "\n",
    "  # Question Three: Missing Number in Range\n",
    " \n",
    "  You are given a list containing `n` integers in the range `[0, n]`. Return a list of numbers that are missing from the range `[0, n]` of the array. If there is no missing number, return -1. Note, all the integers in the list may not be unique.\n",
    "  \n",
    "  ## Examples\n",
    "\n",
    "  ### Example 1\n",
    "\n",
    "  Input: `lst = [0, 2]`\n",
    "\n",
    "  Output: [1]\n",
    "\n",
    "  ### Example 2\n",
    "\n",
    "  Input: `lst = [5, 0, 1]`\n",
    "\n",
    "  Output: [2, 3, 4]\n",
    "\n",
    "  ### Example 3\n",
    "\n",
    "  Input: `lst = [6, 8, 2, 3, 5, 7, 0, 1, 10]`\n",
    "\n",
    "  Output: [4, 9]\n",
    "\n",
    "</details>\n",
    "\n",
    "#### Starter Code for Question 3\n"
   ]
  },
  {
   "cell_type": "code",
   "execution_count": 4,
   "metadata": {},
   "outputs": [
    {
     "name": "stdout",
     "output_type": "stream",
     "text": [
      "[2, 3, 4]\n",
      "[4, 9]\n"
     ]
    }
   ],
   "source": [
    "def missing_num(nums: List) -> int:\n",
    "    return [x for x in range(min(nums), max(nums)) if x not in nums]\n",
    "  \n",
    "lst1 = [5, 0, 1]\n",
    "lst2 = [6, 8, 2, 3, 5, 7, 0, 1, 10]\n",
    "\n",
    "print(missing_num(lst1))\n",
    "print(missing_num(lst2))"
   ]
  },
  {
   "cell_type": "markdown",
   "metadata": {},
   "source": [
    "\n",
    "## Part 2:\n",
    "\n",
    "-   Paraphrase the problem in your own words\n"
   ]
  },
  {
   "cell_type": "markdown",
   "metadata": {},
   "source": [
    "The problem in Question 2 is to list all the available traversal routes from the root of a tree to its leaves."
   ]
  },
  {
   "cell_type": "markdown",
   "metadata": {},
   "source": [
    "- In this .ipynb file, there are examples that illustrate how the code should work (the examples provided above). Create 2 new examples for the question you have been assigned, that demonstrate you understand the problem. For question 1 and 2, you don't need to create the tree demonstration, just the input and output.\n"
   ]
  },
  {
   "cell_type": "code",
   "execution_count": 5,
   "metadata": {},
   "outputs": [
    {
     "name": "stdout",
     "output_type": "stream",
     "text": [
      "[['Pets', 'Cats', 'Siamese'], ['Pets', 'Cats', 'Persian'], ['Pets', 'Dogs', 'Poolde'], ['Pets', 'Dogs', 'Labrador']]\n",
      "[['root', 'left child', 'left child of the left child'], ['root', 'left child', 'right child of the left child'], ['root', 'right child']]\n"
     ]
    }
   ],
   "source": [
    "Tree3 = TreeNode('Pets')\n",
    "Tree3.left = TreeNode('Cats')\n",
    "Tree3.left.left = TreeNode('Siamese')\n",
    "Tree3.left.right = TreeNode('Persian')\n",
    "Tree3.right = TreeNode('Dogs')\n",
    "Tree3.right.left = TreeNode('Poolde')\n",
    "Tree3.right.right = TreeNode('Labrador')\n",
    "\n",
    "Tree4 = TreeNode('root')\n",
    "Tree4.left = TreeNode('left child')\n",
    "Tree4.left.left = TreeNode('left child of the left child')\n",
    "Tree4.left.right = TreeNode('right child of the left child')\n",
    "Tree4.right = TreeNode('right child')\n",
    "\n",
    "print(bt_path(Tree3))\n",
    "print(bt_path(Tree4))"
   ]
  },
  {
   "cell_type": "markdown",
   "metadata": {},
   "source": [
    "\n",
    "-   Code the solution to your assigned problem in Python (code chunk). Try to find the best time and space complexity solution!\n"
   ]
  },
  {
   "cell_type": "code",
   "execution_count": 6,
   "metadata": {},
   "outputs": [],
   "source": [
    "def bt_path(root: TreeNode) -> List[List[int]]:\n",
    "    paths = []\n",
    "    get_paths_recursive(root, paths, [])\n",
    "    return paths\n",
    "\n",
    "def get_paths_recursive(node, paths, current_path):\n",
    "    new_current_path = current_path + [node.val]\n",
    "    if node.left == None and node.right == None:\n",
    "        paths.append(new_current_path)\n",
    "        return None\n",
    "    if node.left:\n",
    "        get_paths_recursive(node.left, paths, new_current_path)\n",
    "    if node.right:\n",
    "        get_paths_recursive(node.right, paths, new_current_path)\n",
    "    return None"
   ]
  },
  {
   "cell_type": "markdown",
   "metadata": {},
   "source": [
    "Time complexity: O(n^2) - we have to go through each of the nodes exactly once, each taking O(n) time to construct the current_path list\n",
    "\n",
    "Space complexity: O(n^2) - we are building paths in an auxiliary lists inside a recursive call stack of lenght O(n), leaf level of which can contain n elements in the worst case"
   ]
  },
  {
   "cell_type": "markdown",
   "metadata": {},
   "source": [
    "\n",
    "-   Explain why your solution works\n"
   ]
  },
  {
   "cell_type": "markdown",
   "metadata": {},
   "source": [
    "This solution works because it uses recursive depth-first traversal to explore all paths from the root to the leaves. At each node, it appends the current node's value to a copy of the current path (new_current_path), ensuring every recursive call works on its own path copy. When a leaf node is reached (both left and right children are None), the current path is complete and added to paths. The function recursively explores both left and right subtrees, ensuring all possible root-to-leaf paths are covered. This guarantees every path from the root to every leaf is recorded in paths."
   ]
  },
  {
   "cell_type": "markdown",
   "metadata": {},
   "source": [
    "\n",
    "-   Explain the problem’s time and space complexity\n"
   ]
  },
  {
   "cell_type": "markdown",
   "metadata": {},
   "source": [
    "Time complexity: O(n^2) - we have to go through each of the nodes exactly once, each taking O(n) time to construct the current_path list\n",
    "\n",
    "Space complexity: O(n^2) - we are building paths in an auxiliary lists inside a recursive call stack of lenght O(n), leaf level of which can contain n elements in the worst case"
   ]
  },
  {
   "cell_type": "markdown",
   "metadata": {},
   "source": [
    "We can solve the problem iteratively by using a stack for DFS. Each stack element should store 2 items: a node value and the list of the parent nodes' values. Start with the root and an empty path. For each node on the stack, pop it and if it's a leaf, add its path to paths. Otherwise, push its children with updated paths onto the stack. Repeat until the stack is empty."
   ]
  },
  {
   "cell_type": "markdown",
   "metadata": {},
   "source": [
    "## Evaluation Criteria\n",
    "\n",
    "-   Problem is accurately stated\n",
    "\n",
    "-   Two examples are correct and easily understandable\n",
    "\n",
    "-   Correctness, time, and space complexity of the coding solution\n",
    "\n",
    "-   Clarity in explaining why the solution works, its time and space complexity\n",
    "\n",
    "-   Clarity in the proposal to the alternative solution"
   ]
  },
  {
   "cell_type": "markdown",
   "metadata": {},
   "source": [
    "## Submission Information\n",
    "\n",
    "🚨 **Please review our [Assignment Submission Guide](https://github.com/UofT-DSI/onboarding/blob/main/onboarding_documents/submissions.md)** 🚨 for detailed instructions on how to format, branch, and submit your work. Following these guidelines is crucial for your submissions to be evaluated correctly.\n",
    "\n",
    "### Submission Parameters:\n",
    "* Submission Due Date: `HH:MM AM/PM - DD/MM/YYYY`\n",
    "* The branch name for your repo should be: `assignment-1`\n",
    "* What to submit for this assignment:\n",
    "    * This Jupyter Notebook (assignment_1.ipynb) should be populated and should be the only change in your pull request.\n",
    "* What the pull request link should look like for this assignment: `https://github.com/<your_github_username>/algorithms_and_data_structures/pull/<pr_id>`\n",
    "    * Open a private window in your browser. Copy and paste the link to your pull request into the address bar. Make sure you can see your pull request properly. This helps the technical facilitator and learning support staff review your submission easily.\n",
    "\n",
    "Checklist:\n",
    "- [ ] Create a branch called `assignment-1`.\n",
    "- [ ] Ensure that the repository is public.\n",
    "- [ ] Review [the PR description guidelines](https://github.com/UofT-DSI/onboarding/blob/main/onboarding_documents/submissions.md#guidelines-for-pull-request-descriptions) and adhere to them.\n",
    "- [ ] Verify that the link is accessible in a private browser window.\n",
    "\n",
    "If you encounter any difficulties or have questions, please don't hesitate to reach out to our team via our Slack at `#cohort-3-help`. Our Technical Facilitators and Learning Support staff are here to help you navigate any challenges."
   ]
  }
 ],
 "metadata": {
  "kernelspec": {
   "display_name": "Python 3",
   "language": "python",
   "name": "python3"
  },
  "language_info": {
   "codemirror_mode": {
    "name": "ipython",
    "version": 3
   },
   "file_extension": ".py",
   "mimetype": "text/x-python",
   "name": "python",
   "nbconvert_exporter": "python",
   "pygments_lexer": "ipython3",
   "version": "3.9.15"
  }
 },
 "nbformat": 4,
 "nbformat_minor": 2
}
