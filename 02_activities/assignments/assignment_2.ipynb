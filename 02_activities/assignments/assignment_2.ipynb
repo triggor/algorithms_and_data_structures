{
 "cells": [
  {
   "cell_type": "markdown",
   "metadata": {},
   "source": [
    "\n",
    "## Part 2:\n",
    "\n",
    "Create a Jupyter Notebook, create 6 of the following headings, and complete the following for your partner's assignment 1:\n",
    "\n",
    "-   Paraphrase the problem in your own words.\n"
   ]
  },
  {
   "cell_type": "markdown",
   "metadata": {},
   "source": [
    "The problem in Question 1 is to create a program that takes the root node of a binary tree and identifies whether there are any duplicate values in the tree. If duplicates exist, it should return the value of the one closest to the root for practical use. If no duplicates are found, it should return -1 to indicate the absence of duplicates."
   ]
  },
  {
   "cell_type": "markdown",
   "metadata": {},
   "source": [
    "\n",
    "-   Create 1 new example that demonstrates you understand the problem. Trace/walkthrough 1 example that your partner made and explain it.\n"
   ]
  },
  {
   "cell_type": "code",
   "execution_count": 1,
   "metadata": {},
   "outputs": [],
   "source": [
    "# Definition for a binary tree node.\n",
    "class TreeNode(object):\n",
    "    def __init__(self, val=0, left=None, right=None):\n",
    "        self.val = val\n",
    "        self.left = left\n",
    "        self.right = right\n",
    "        \n",
    "Tree = TreeNode('Birds')\n",
    "Tree.left = TreeNode('White')\n",
    "Tree.left.left = TreeNode('Crow')\n",
    "Tree.left.right = TreeNode('Swan')\n",
    "Tree.right = TreeNode('Black')\n",
    "Tree.right.left = TreeNode('Crow')\n",
    "Tree.right.right = TreeNode('Swan')"
   ]
  },
  {
   "cell_type": "markdown",
   "metadata": {},
   "source": [
    "\n",
    "-   Copy the solution your partner wrote. \n"
   ]
  },
  {
   "cell_type": "code",
   "execution_count": 2,
   "metadata": {},
   "outputs": [],
   "source": [
    "from collections import deque\n",
    "\n",
    "def is_duplicate(root: TreeNode) -> int:\n",
    "    # Handle edge case of empty tree\n",
    "    if root is None:\n",
    "        return -1\n",
    "    \n",
    "    # Initialize BFS\n",
    "    queue = deque([root])\n",
    "    visited = set()\n",
    "    \n",
    "    # Traverse the tree using BFS\n",
    "    while queue:\n",
    "        current_node = queue.popleft()\n",
    "        \n",
    "        # Check for duplicate\n",
    "        if current_node.val in visited:\n",
    "            return current_node.val\n",
    "        visited.add(current_node.val)\n",
    "        \n",
    "        # Add children to the queue\n",
    "        if current_node.left:\n",
    "            queue.append(current_node.left)\n",
    "        if current_node.right:\n",
    "            queue.append(current_node.right)\n",
    "    \n",
    "    # If no duplicates found return -1\n",
    "    return -1"
   ]
  },
  {
   "cell_type": "markdown",
   "metadata": {},
   "source": [
    "\n",
    "-   Explain why their solution works in your own words.\n"
   ]
  },
  {
   "cell_type": "markdown",
   "metadata": {},
   "source": [
    "This solution uses breadth-first search (BFS) to traverse the tree level by level, ensuring duplicates closer to the root are found first. A visited set tracks seen values, and the first duplicate encountered is returned. A deque efficiently manages the node processing order. The function handles edge cases like an empty tree or no duplicates by returning -1. It's efficient, checking each node once and using minimal extra memory."
   ]
  },
  {
   "cell_type": "markdown",
   "metadata": {},
   "source": [
    "\n",
    "-   Explain the problem’s time and space complexity in your own words.\n"
   ]
  },
  {
   "cell_type": "markdown",
   "metadata": {},
   "source": [
    "Time complexity: O(n) - every node in BFS is processed once.\n",
    "\n",
    "Space complexity: O(n) - maximum size of the queue is n elements."
   ]
  },
  {
   "cell_type": "markdown",
   "metadata": {},
   "source": [
    "\n",
    "-   Critique your partner's solution, including explanation, and if there is anything that should be adjusted.\n"
   ]
  },
  {
   "cell_type": "markdown",
   "metadata": {},
   "source": [
    "The algorithm is computationally efficient and properly implemented. It considers different shapes of an input tree, including an empty tree. The only confusing thing about the solution was understanding how the example tree building algorithm works due to unconventional linear input design."
   ]
  },
  {
   "cell_type": "markdown",
   "metadata": {},
   "source": [
    "\n",
    "## Part 3:\n",
    "\n",
    "Please write a 200 word reflection documenting your process from assignment 1, and your presentation and review experience with your partner at the bottom of the Jupyter Notebook under a new heading \"Reflection.\" Again, export this Notebook as pdf.\n"
   ]
  },
  {
   "cell_type": "markdown",
   "metadata": {},
   "source": [
    "### Reflection"
   ]
  },
  {
   "cell_type": "markdown",
   "metadata": {},
   "source": [
    "In completing Assignment 1, I was tasked with implementing a function to find all paths from the root to the leaves of a binary tree. I began by breaking down the problem into manageable pieces, focusing on how to traverse the tree and capture the paths. I chose to implement a recursive approach, which seemed natural for this problem since it allows easy tracking of the current path as the function moves deeper into the tree.\n",
    "\n",
    "During the review session with my partner, I was introduced to their approach, which focused on detecting duplicates in a binary tree using breadth-first search (BFS). While their code worked well, I appreciated the emphasis on performance, using a set to efficiently track duplicates. It made me realize the importance of choosing the right traversal method based on the problem at hand, as BFS might be more suitable for problems involving searching of nodes closer to the root."
   ]
  },
  {
   "cell_type": "markdown",
   "metadata": {},
   "source": [
    "\n",
    "## Evaluation Criteria\n",
    "\n",
    "We are looking for the similar points as Assignment 1\n",
    "\n",
    "-   Problem is accurately stated\n",
    "\n",
    "-   New example is correct and easily understandable\n",
    "\n",
    "-   Correctness, time, and space complexity of the coding solution\n",
    "\n",
    "-   Clarity in explaining why the solution works, its time and space complexity\n",
    "\n",
    "-   Quality of critique of your partner's assignment, if necessary\n"
   ]
  },
  {
   "cell_type": "markdown",
   "metadata": {},
   "source": [
    "## Submission Information\n",
    "\n",
    "🚨 **Please review our [Assignment Submission Guide](https://github.com/UofT-DSI/onboarding/blob/main/onboarding_documents/submissions.md)** 🚨 for detailed instructions on how to format, branch, and submit your work. Following these guidelines is crucial for your submissions to be evaluated correctly.\n",
    "\n",
    "### Submission Parameters:\n",
    "* Submission Due Date: `HH:MM AM/PM - DD/MM/YYYY`\n",
    "* The branch name for your repo should be: `assignment-2`\n",
    "* What to submit for this assignment:\n",
    "    * This Jupyter Notebook (assignment_2.ipynb) should be populated and should be the only change in your pull request.\n",
    "* What the pull request link should look like for this assignment: `https://github.com/<your_github_username>/algorithms_and_data_structures/pull/<pr_id>`\n",
    "    * Open a private window in your browser. Copy and paste the link to your pull request into the address bar. Make sure you can see your pull request properly. This helps the technical facilitator and learning support staff review your submission easily.\n",
    "\n",
    "Checklist:\n",
    "- [ ] Created a branch with the correct naming convention.\n",
    "- [ ] Ensured that the repository is public.\n",
    "- [ ] Reviewed the PR description guidelines and adhered to them.\n",
    "- [ ] Verify that the link is accessible in a private browser window.\n",
    "\n",
    "If you encounter any difficulties or have questions, please don't hesitate to reach out to our team via our Slack at `#cohort-3-help`. Our Technical Facilitators and Learning Support staff are here to help you navigate any challenges.\n"
   ]
  }
 ],
 "metadata": {
  "kernelspec": {
   "display_name": "dsi_participant",
   "language": "python",
   "name": "python3"
  },
  "language_info": {
   "codemirror_mode": {
    "name": "ipython",
    "version": 3
   },
   "file_extension": ".py",
   "mimetype": "text/x-python",
   "name": "python",
   "nbconvert_exporter": "python",
   "pygments_lexer": "ipython3",
   "version": "3.9.15"
  }
 },
 "nbformat": 4,
 "nbformat_minor": 2
}
